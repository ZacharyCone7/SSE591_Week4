{
 "cells": [
  {
   "cell_type": "code",
   "execution_count": 41,
   "metadata": {},
   "outputs": [
    {
     "data": {
      "text/plain": [
       "Index(['EarthquakeNanMagnitude', 'Latitude', 'Longitude', 'Time'], dtype='object')"
      ]
     },
     "execution_count": 41,
     "metadata": {},
     "output_type": "execute_result"
    }
   ],
   "source": [
    "import numpy as np\n",
    "import matplotlib.pyplot as plt\n",
    "import pandas as pd\n",
    "\n",
    "data = pd.read_csv(r\"C:\\Users\\Zachary.Cone.SERN\\Desktop\\SSE 591-Intro to Python & Data Science\\Week 4\\SSE591_Week4\\Tsunami Events Dataset.csv\")\n",
    "Japan = data.query(\"Country == 'JAPAN'\")\n",
    "Tsunamis = Japan.iloc[:, list(range(1,4))+[9]+[15]+[16]]\n",
    "Tsunamis = Tsunamis.dropna().reset_index(drop=True)\n",
    "Tsunamis[\"Time\"] = pd.to_datetime({\n",
    "    \"year\": Tsunamis[\"Year\"],\n",
    "    \"month\": Tsunamis[\"Mo\"],\n",
    "    \"day\": Tsunamis[\"Dy\"]\n",
    "})\n",
    "Tsunamis = Tsunamis.drop([\"Year\", \"Mo\", \"Dy\"], axis=1)\n",
    "Tsunamis.columns"
   ]
  },
  {
   "cell_type": "code",
   "execution_count": null,
   "metadata": {},
   "outputs": [],
   "source": [
    "# Extract the data we're interested in\n",
    "lat = earthquakes['Latitude'].values\n",
    "lon = earthquakes['Longitude'].values\n",
    "richter = earthquakes['population_total'].values\n",
    "area = earthquakes['area_total_km2'].values\n",
    "\n",
    "# 1. Draw the map background\n",
    "fig = plt.figure(figsize=(8, 8))\n",
    "m = Basemap(projection='lcc', resolution='h', \n",
    "            lat_0=37.5, lon_0=-119,\n",
    "            width=1E6, height=1.2E6)\n",
    "m.shadedrelief()\n",
    "m.drawcoastlines(color='gray')\n",
    "m.drawcountries(color='gray')\n",
    "m.drawstates(color='gray')\n",
    "\n",
    "# 2. scatter city data, with color reflecting population\n",
    "# and size reflecting area\n",
    "m.scatter(lon, lat, latlon=True,\n",
    "          c=np.log10(population), s=area,\n",
    "          cmap='Reds', alpha=0.5)\n",
    "\n",
    "# 3. create colorbar and legend\n",
    "plt.colorbar(label=r'$\\log_{10}({\\rm population})$')\n",
    "plt.clim(3, 7)\n",
    "\n",
    "# make legend with dummy points\n",
    "for a in [100, 300, 500]:\n",
    "    plt.scatter([], [], c='k', alpha=0.5, s=a,\n",
    "                label=str(a) + ' km$^2$')\n",
    "plt.legend(scatterpoints=1, frameon=False,\n",
    "           labelspacing=1, loc='lower left');"
   ]
  }
 ],
 "metadata": {
  "kernelspec": {
   "display_name": "Python 3",
   "language": "python",
   "name": "python3"
  },
  "language_info": {
   "codemirror_mode": {
    "name": "ipython",
    "version": 3
   },
   "file_extension": ".py",
   "mimetype": "text/x-python",
   "name": "python",
   "nbconvert_exporter": "python",
   "pygments_lexer": "ipython3",
   "version": "3.12.2"
  }
 },
 "nbformat": 4,
 "nbformat_minor": 2
}
