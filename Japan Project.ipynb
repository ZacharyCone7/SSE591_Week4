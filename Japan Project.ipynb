{
 "cells": [
  {
   "cell_type": "code",
   "execution_count": null,
   "metadata": {},
   "outputs": [],
   "source": [
    "import numpy as np\n",
    "import matplotlib.pyplot as plt\n",
    "from mpl_toolkits.basemap import Basemap\n",
    "import pandas as pd\n",
    "earthquakes = pd.read_csv('Insert Japan earthquakes here')\n",
    "\n",
    "# Extract the data we're interested in\n",
    "lat = earthquakes['latd'].values\n",
    "lon = earthquakes['longd'].values\n",
    "richter = earthquakes['population_total'].values\n",
    "area = earthquakes['area_total_km2'].values"
   ]
  },
  {
   "cell_type": "code",
   "execution_count": null,
   "metadata": {},
   "outputs": [],
   "source": [
    "# 1. Draw the map background\n",
    "fig = plt.figure(figsize=(8, 8))\n",
    "m = Basemap(projection='lcc', resolution='h', \n",
    "            lat_0=37.5, lon_0=-119,\n",
    "            width=1E6, height=1.2E6)\n",
    "m.shadedrelief()\n",
    "m.drawcoastlines(color='gray')\n",
    "m.drawcountries(color='gray')\n",
    "m.drawstates(color='gray')\n",
    "\n",
    "# 2. scatter city data, with color reflecting population\n",
    "# and size reflecting area\n",
    "m.scatter(lon, lat, latlon=True,\n",
    "          c=np.log10(population), s=area,\n",
    "          cmap='Reds', alpha=0.5)\n",
    "\n",
    "# 3. create colorbar and legend\n",
    "plt.colorbar(label=r'$\\log_{10}({\\rm population})$')\n",
    "plt.clim(3, 7)\n",
    "\n",
    "# make legend with dummy points\n",
    "for a in [100, 300, 500]:\n",
    "    plt.scatter([], [], c='k', alpha=0.5, s=a,\n",
    "                label=str(a) + ' km$^2$')\n",
    "plt.legend(scatterpoints=1, frameon=False,\n",
    "           labelspacing=1, loc='lower left');"
   ]
  }
 ],
 "metadata": {
  "kernelspec": {
   "display_name": "Python 3",
   "language": "python",
   "name": "python3"
  },
  "language_info": {
   "name": "python",
   "version": "3.12.2"
  }
 },
 "nbformat": 4,
 "nbformat_minor": 2
}
